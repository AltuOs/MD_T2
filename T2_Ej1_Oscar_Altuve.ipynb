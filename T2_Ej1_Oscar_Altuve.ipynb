{
 "cells": [
  {
   "cell_type": "markdown",
   "metadata": {},
   "source": [
    "# LA-ConGA Physics 2022\n",
    "\n",
    "# Módulo de Datos\n",
    "\n",
    "Estudiante: Oscar, Altuve Pabón\n",
    "\n",
    "Mattermost: @altuos\n",
    "### Tarea 2. Ejercicio 1."
   ]
  },
  {
   "cell_type": "markdown",
   "metadata": {},
   "source": [
    "Utilizando el arreglo de puntos de la lámina 39:\n",
    "1.\tConstruir una función $\\chi^2(p_0,p_1)$ correspondiente a un modelo lineal $y=p_0+p_1x$;\n",
    "2.\tAsignar valores numéricos iniciales “razonables” a $p_0$ y $p_1$;\n",
    "3.\tDeterminar (p.e. con una doble bucle) los valores $\\hat{p_0}$ y $\\hat{p_1}$ que minimizan la función $\\chi^2$;\n",
    "4.\tFijando el valor $\\hat{p_0}$, graficar la variación de $\\chi^2$ en función de $p_1$ alrededor de su valor mínimo;\n",
    "5.\tFijando el valor de $\\hat{p_1}$, graficar la variación de $\\chi^2$ en función de $p_0$ alrededor de un valor mínimo;\n",
    "6.\tEn ambos casos, determinar los intervalos correspondientes a $\\Delta\\chi^2<1$;\n",
    "7.\tComparar con el resultado indicado en la lámina siguiente;\n",
    "8.\tEvaluar la p-value, e interpretar su valor;\n",
    "9.\tComparar con el resultado producido por tu herramienta favorita, e interpretar las posibles diferencias."
   ]
  },
  {
   "cell_type": "code",
   "execution_count": null,
   "metadata": {},
   "outputs": [],
   "source": [
    "#include<TFile.h>\n",
    "#include<TH1.h>\n",
    "#include<TMath.h>\n",
    "#include<math.h>\n",
    "#include<TF1.h>\n",
    "#include<TLine.h>\n",
    "#include<TPoint.h>\n",
    "#include<iostream>\n",
    "#include<string>\n",
    "#include<stdio.h>"
   ]
  }
 ],
 "metadata": {
  "kernelspec": {
   "display_name": "ROOT C++",
   "language": "c++",
   "name": "root"
  },
  "language_info": {
   "codemirror_mode": "text/x-c++src",
   "file_extension": ".C",
   "mimetype": " text/x-c++src",
   "name": "c++"
  }
 },
 "nbformat": 4,
 "nbformat_minor": 2
}
