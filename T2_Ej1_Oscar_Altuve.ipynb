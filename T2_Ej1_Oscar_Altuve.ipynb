{
 "cells": [
  {
   "cell_type": "markdown",
   "metadata": {},
   "source": [
    "# LA-ConGA Physics 2022\n",
    "\n",
    "# Módulo de Datos\n",
    "\n",
    "Estudiante: Oscar, Altuve Pabón\n",
    "\n",
    "Mattermost: @altuos\n",
    "### Tarea 2. Ejercicio 1."
   ]
  },
  {
   "cell_type": "markdown",
   "metadata": {},
   "source": [
    "Utilizando el arreglo de puntos de la lámina 39:\n",
    "1.\tConstruir una función $\\chi^2(p_0,p_1)$ correspondiente a un modelo lineal $y=p_0+p_1x$;\n",
    "2.\tAsignar valores numéricos iniciales “razonables” a $p_0$ y $p_1$;\n",
    "3.\tDeterminar (p.e. con una doble bucle) los valores $\\hat{p_0}$ y $\\hat{p_1}$ que minimizan la función $\\chi^2$;\n",
    "4.\tFijando el valor $\\hat{p_0}$, graficar la variación de $\\chi^2$ en función de $p_1$ alrededor de su valor mínimo;\n",
    "5.\tFijando el valor de $\\hat{p_1}$, graficar la variación de $\\chi^2$ en función de $p_0$ alrededor de un valor mínimo;\n",
    "6.\tEn ambos casos, determinar los intervalos correspondientes a $\\Delta\\chi^2<1$;\n",
    "7.\tComparar con el resultado indicado en la lámina siguiente;\n",
    "8.\tEvaluar la p-value, e interpretar su valor;\n",
    "9.\tComparar con el resultado producido por tu herramienta favorita, e interpretar las posibles diferencias."
   ]
  },
  {
   "cell_type": "code",
   "execution_count": 1,
   "metadata": {},
   "outputs": [],
   "source": [
    "#include<TFile.h>\n",
    "#include<TH1.h>\n",
    "#include<TMath.h>\n",
    "#include<math.h>\n",
    "#include<TF1.h>\n",
    "#include<TLine.h>\n",
    "#include<TPoint.h>\n",
    "#include<iostream>\n",
    "#include<string>\n",
    "#include<stdio.h>"
   ]
  },
  {
   "cell_type": "code",
   "execution_count": 2,
   "metadata": {},
   "outputs": [],
   "source": [
    "gStyle->SetOptTitle (0/1); // sin título\n",
    "gStyle->SetOptStat(0); // No muestra estadística"
   ]
  },
  {
   "cell_type": "code",
   "execution_count": 3,
   "metadata": {},
   "outputs": [],
   "source": [
    "TCanvas *c1 = new TCanvas(\"c1\",\"c1\",10,10,900,600);\n",
    "c1->SetGrid();"
   ]
  },
  {
   "cell_type": "code",
   "execution_count": 4,
   "metadata": {},
   "outputs": [],
   "source": [
    "TH1D *h_data = new TH1D(\"h_data\",\"h_data\",10,0,10);"
   ]
  },
  {
   "cell_type": "code",
   "execution_count": 5,
   "metadata": {},
   "outputs": [],
   "source": [
    "h_data->SetBinContent(1, 157);\n",
    "h_data->SetBinContent(2, 135);\n",
    "h_data->SetBinContent(3, 121);\n",
    "h_data->SetBinContent(4, 104);\n",
    "h_data->SetBinContent(5, 86);\n",
    "h_data->SetBinContent(6, 71);\n",
    "h_data->SetBinContent(7, 83);\n",
    "h_data->SetBinContent(8, 90);\n",
    "h_data->SetBinContent(9, 67);\n",
    "h_data->SetBinContent(10, 86);"
   ]
  },
  {
   "cell_type": "code",
   "execution_count": null,
   "metadata": {},
   "outputs": [],
   "source": [
    "// https://root.cern/root/html534/tutorials/math/chi2test.C.html"
   ]
  },
  {
   "cell_type": "code",
   "execution_count": 15,
   "metadata": {},
   "outputs": [],
   "source": [
    "float chi2(float xi, int n, float p0, float p1) {\n",
    "    float y = p0+p1*xi;\n",
    "    float sum = 0;\n",
    "    float sigmai = 1; // definir!!!!!\n",
    "    for (int i=0; i <= n; i++) {\n",
    "        float sum = sum + (xi-y)/sigmai;\n",
    "    }\n",
    "    return sum;\n",
    "}"
   ]
  },
  {
   "cell_type": "code",
   "execution_count": null,
   "metadata": {},
   "outputs": [],
   "source": [
    "float p1 = 1;\n",
    "float p2 = 1;\n",
    "int n = 9;\n",
    "GetBincontent\n",
    "// cout << chi2() << endl;"
   ]
  },
  {
   "cell_type": "code",
   "execution_count": 6,
   "metadata": {},
   "outputs": [
    {
     "data": {
      "image/png": "[encoded data removed]",
      "text/plain": [
       "<IPython.core.display.Image object>"
      ]
     },
     "metadata": {},
     "output_type": "display_data"
    }
   ],
   "source": [
    "h_data->GetXaxis()->SetTitle(\"x\");\n",
    "h_data->GetYaxis()->SetTitle(\"y\");\n",
    "h_data->Draw(\"e\");\n",
    "c1->Draw();"
   ]
  },
  {
   "cell_type": "code",
   "execution_count": null,
   "metadata": {},
   "outputs": [],
   "source": []
  }
 ],
 "metadata": {
  "kernelspec": {
   "display_name": "ROOT C++",
   "language": "c++",
   "name": "root"
  },
  "language_info": {
   "codemirror_mode": "text/x-c++src",
   "file_extension": ".C",
   "mimetype": " text/x-c++src",
   "name": "c++"
  }
 },
 "nbformat": 4,
 "nbformat_minor": 2
}
