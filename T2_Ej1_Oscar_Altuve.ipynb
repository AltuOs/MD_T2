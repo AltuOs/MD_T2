{
 "cells": [
  {
   "cell_type": "markdown",
   "metadata": {},
   "source": [
    "# LA-ConGA Physics 2022\n",
    "\n",
    "# Módulo de Datos\n",
    "\n",
    "Estudiante: Oscar, Altuve Pabón\n",
    "\n",
    "Mattermost: @altuos\n",
    "### Tarea 2. Ejercicio 1."
   ]
  },
  {
   "cell_type": "markdown",
   "metadata": {},
   "source": [
    "Utilizando el arreglo de puntos de la lámina 39:\n",
    "1.\tConstruir una función $\\chi^2(p_0,p_1)$ correspondiente a un modelo lineal $y=p_0+p_1x$;\n",
    "2.\tAsignar valores numéricos iniciales “razonables” a $p_0$ y $p_1$;\n",
    "3.\tDeterminar (p.e. con una doble bucle) los valores $\\hat{p_0}$ y $\\hat{p_1}$ que minimizan la función $\\chi^2$;\n",
    "4.\tFijando el valor $\\hat{p_0}$, graficar la variación de $\\chi^2$ en función de $p_1$ alrededor de su valor mínimo;\n",
    "5.\tFijando el valor de $\\hat{p_1}$, graficar la variación de $\\chi^2$ en función de $p_0$ alrededor de un valor mínimo;\n",
    "6.\tEn ambos casos, determinar los intervalos correspondientes a $\\Delta\\chi^2<1$;\n",
    "7.\tComparar con el resultado indicado en la lámina siguiente;\n",
    "8.\tEvaluar la p-value, e interpretar su valor;\n",
    "9.\tComparar con el resultado producido por tu herramienta favorita, e interpretar las posibles diferencias."
   ]
  },
  {
   "cell_type": "code",
   "execution_count": 1,
   "metadata": {},
   "outputs": [],
   "source": [
    "#include<TFile.h>\n",
    "#include<TH1.h>\n",
    "#include<TMath.h>\n",
    "#include<math.h>\n",
    "#include<TF1.h>\n",
    "#include<TLine.h>\n",
    "#include<TPoint.h>\n",
    "#include<iostream>\n",
    "#include<string>\n",
    "#include<stdio.h>"
   ]
  },
  {
   "cell_type": "code",
   "execution_count": 2,
   "metadata": {},
   "outputs": [],
   "source": [
    "gStyle->SetOptTitle (0/1); // sin título\n",
    "gStyle->SetOptStat(0); // No muestra estadística"
   ]
  },
  {
   "cell_type": "code",
   "execution_count": 3,
   "metadata": {},
   "outputs": [],
   "source": [
    "TCanvas *c1 = new TCanvas(\"c1\",\"c1\",10,10,900,600);\n",
    "c1->SetGrid();"
   ]
  },
  {
   "cell_type": "code",
   "execution_count": 4,
   "metadata": {},
   "outputs": [],
   "source": [
    "TH1D *h_data = new TH1D(\"h_data\",\"h_data\",10,0,10);"
   ]
  },
  {
   "cell_type": "code",
   "execution_count": 5,
   "metadata": {},
   "outputs": [],
   "source": [
    "h_data->SetBinContent(1, 157);\n",
    "h_data->SetBinContent(2, 135);\n",
    "h_data->SetBinContent(3, 121);\n",
    "h_data->SetBinContent(4, 104);\n",
    "h_data->SetBinContent(5, 86);\n",
    "h_data->SetBinContent(6, 71);\n",
    "h_data->SetBinContent(7, 83);\n",
    "h_data->SetBinContent(8, 90);\n",
    "h_data->SetBinContent(9, 67);\n",
    "h_data->SetBinContent(10, 86);"
   ]
  },
  {
   "cell_type": "code",
   "execution_count": 6,
   "metadata": {},
   "outputs": [
    {
     "data": {
      "image/png": "[encoded data removed]",
      "text/plain": [
       "<IPython.core.display.Image object>"
      ]
     },
     "metadata": {},
     "output_type": "display_data"
    }
   ],
   "source": [
    "h_data->GetXaxis()->SetTitle(\"x\");\n",
    "h_data->GetYaxis()->SetTitle(\"y\");\n",
    "h_data->Draw(\"e\");\n",
    "c1->Draw();"
   ]
  },
  {
   "cell_type": "code",
   "execution_count": 7,
   "metadata": {},
   "outputs": [],
   "source": [
    "// https://root.cern/root/html534/tutorials/math/chi2test.C.html"
   ]
  },
  {
   "cell_type": "code",
   "execution_count": 8,
   "metadata": {},
   "outputs": [],
   "source": [
    "float line(float xi, float p0, float p1) {\n",
    "    return p0+p1*xi;\n",
    "}"
   ]
  },
  {
   "cell_type": "code",
   "execution_count": 9,
   "metadata": {},
   "outputs": [
    {
     "name": "stdout",
     "output_type": "stream",
     "text": [
      "(double) 2.9529179\n"
     ]
    }
   ],
   "source": [
    "h_data->GetStdDev()"
   ]
  },
  {
   "cell_type": "code",
   "execution_count": 10,
   "metadata": {},
   "outputs": [
    {
     "name": "stdout",
     "output_type": "stream",
     "text": [
      "0.263634\n"
     ]
    }
   ],
   "source": [
    "std::vector<double> x(100);\n",
    "gRandom->RndmArray(x.size(),x.data());\n",
    "cout << TMath::StdDev(x.begin(), x.end()) << endl;"
   ]
  },
  {
   "cell_type": "code",
   "execution_count": 11,
   "metadata": {},
   "outputs": [],
   "source": [
    "// n: número de grados de libertad. nd puntos son utilizados para estimar np parámetros, el NDF=nd-np.\n",
    "// xi:número de variables normales reducidas.\n",
    "\n",
    "float chi_2(float xi, int n, float p0, float p1) {\n",
    "    float sum = 0;\n",
    "    float sigmai = 1; // definir!!!!!\n",
    "    for (int i = 0; i < n; i++) {\n",
    "        sum = sum + pow((xi-line(xi,p0,p1))/sigmai,2);\n",
    "    }\n",
    "    return sum;\n",
    "}"
   ]
  },
  {
   "cell_type": "code",
   "execution_count": 12,
   "metadata": {},
   "outputs": [],
   "source": [
    "float p0 = 1.34861e+02;\n",
    "float p1 = -7.43446;\n",
    "int n = 10 - 2; // 10 datos menos 2 parámetros por definición de NDF.\n",
    "//GetBincontent\n",
    "// cout << chi2() << endl;"
   ]
  },
  {
   "cell_type": "code",
   "execution_count": 13,
   "metadata": {},
   "outputs": [
    {
     "name": "stdout",
     "output_type": "stream",
     "text": [
      "(float) 2.78955e+06f\n"
     ]
    }
   ],
   "source": [
    "chi_2(h_data->TH1::GetBinContent(10),n,p0,p1)"
   ]
  },
  {
   "cell_type": "markdown",
   "metadata": {},
   "source": [
    "### Utilizando algoritmos prediseñados de ROOT:\n",
    "\n",
    "Primero diseñamos la función de la recta:"
   ]
  },
  {
   "cell_type": "code",
   "execution_count": 14,
   "metadata": {},
   "outputs": [],
   "source": [
    "f_line = new TF1(\"f_line\",\"[0]+[1]*x\",0,10);"
   ]
  },
  {
   "cell_type": "markdown",
   "metadata": {},
   "source": [
    "Hacemos un ajuste de $\\chi^2$ sobre los datos y calculamos la probabilidad:"
   ]
  },
  {
   "cell_type": "code",
   "execution_count": 15,
   "metadata": {},
   "outputs": [
    {
     "name": "stdout",
     "output_type": "stream",
     "text": [
      " FCN=23.1088 FROM MIGRAD    STATUS=CONVERGED      31 CALLS          32 TOTAL\n",
      "                     EDM=2.02734e-22    STRATEGY= 1      ERROR MATRIX ACCURATE \n",
      "  EXT PARAMETER                                   STEP         FIRST   \n",
      "  NO.   NAME      VALUE            ERROR          SIZE      DERIVATIVE \n",
      "   1  p0           1.34861e+02   7.02278e+00   7.32657e-03   2.42454e-12\n",
      "   2  p1          -7.43446e+00   1.13342e+00   1.18245e-03   3.00454e-11\n",
      "\n",
      "Para un Chi^2 = 23.1088, con NDF = 8. Se tiene una Probabilidad = 0.00322728\n"
     ]
    }
   ],
   "source": [
    "h_data->Fit(\"f_line\",\"S\");\n",
    "cout << endl << \"Para un Chi^2 = \" << f_line->GetChisquare() << \", con NDF = \" << f_line->GetNDF()\n",
    "     << \". Se tiene una Probabilidad = \" << TMath::Prob(f_line->GetChisquare(),f_line->GetNDF()) << endl;"
   ]
  },
  {
   "cell_type": "code",
   "execution_count": 16,
   "metadata": {},
   "outputs": [],
   "source": [
    "TCanvas *c2 = new TCanvas(\"c2\",\"c2\",10,10,900,600);\n",
    "c2->SetGrid();"
   ]
  },
  {
   "cell_type": "code",
   "execution_count": 17,
   "metadata": {},
   "outputs": [
    {
     "data": {
      "image/png": "[encoded data removed]",
      "text/plain": [
       "<IPython.core.display.Image object>"
      ]
     },
     "metadata": {},
     "output_type": "display_data"
    }
   ],
   "source": [
    "h_data->GetXaxis()->SetTitle(\"x\");\n",
    "h_data->GetYaxis()->SetTitle(\"y\");\n",
    "h_data->Draw(\"e\");\n",
    "c2->Draw();"
   ]
  }
 ],
 "metadata": {
  "kernelspec": {
   "display_name": "ROOT C++",
   "language": "c++",
   "name": "root"
  },
  "language_info": {
   "codemirror_mode": "text/x-c++src",
   "file_extension": ".C",
   "mimetype": " text/x-c++src",
   "name": "c++"
  }
 },
 "nbformat": 4,
 "nbformat_minor": 2
}
